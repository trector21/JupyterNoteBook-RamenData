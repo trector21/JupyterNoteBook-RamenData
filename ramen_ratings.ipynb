{
 "cells": [
  {
   "cell_type": "code",
   "execution_count": 1,
   "id": "floral-consumer",
   "metadata": {},
   "outputs": [],
   "source": [
    "import matplotlib.pyplot as plt\n",
    "import csv"
   ]
  },
  {
   "cell_type": "markdown",
   "id": "intended-colon",
   "metadata": {},
   "source": [
    "## Importing and setting up data\n",
    "\n",
    "Start by bringing CSV data into Python program, then we parse the data using the CSV package, finally we close the CSV file after reading the information"
   ]
  },
  {
   "cell_type": "code",
   "execution_count": 2,
   "id": "freelance-drawing",
   "metadata": {},
   "outputs": [
    {
     "ename": "UnicodeDecodeError",
     "evalue": "'charmap' codec can't decode byte 0x9d in position 6309: character maps to <undefined>",
     "output_type": "error",
     "traceback": [
      "\u001b[1;31m---------------------------------------------------------------------------\u001b[0m",
      "\u001b[1;31mUnicodeDecodeError\u001b[0m                        Traceback (most recent call last)",
      "\u001b[1;32m<ipython-input-2-1dec687e07a7>\u001b[0m in \u001b[0;36m<module>\u001b[1;34m\u001b[0m\n\u001b[0;32m      3\u001b[0m     \u001b[0mdata_list\u001b[0m \u001b[1;33m=\u001b[0m \u001b[1;33m[\u001b[0m\u001b[1;33m]\u001b[0m\u001b[1;33m\u001b[0m\u001b[1;33m\u001b[0m\u001b[0m\n\u001b[0;32m      4\u001b[0m \u001b[1;33m\u001b[0m\u001b[0m\n\u001b[1;32m----> 5\u001b[1;33m     \u001b[1;32mfor\u001b[0m \u001b[0mrow\u001b[0m \u001b[1;32min\u001b[0m \u001b[0mramen_data\u001b[0m\u001b[1;33m:\u001b[0m\u001b[1;33m\u001b[0m\u001b[1;33m\u001b[0m\u001b[0m\n\u001b[0m\u001b[0;32m      6\u001b[0m         \u001b[0mdata_list\u001b[0m\u001b[1;33m.\u001b[0m\u001b[0mappend\u001b[0m\u001b[1;33m(\u001b[0m\u001b[0mrow\u001b[0m\u001b[1;33m)\u001b[0m\u001b[1;33m\u001b[0m\u001b[1;33m\u001b[0m\u001b[0m\n",
      "\u001b[1;32mC:\\Python39\\lib\\csv.py\u001b[0m in \u001b[0;36m__next__\u001b[1;34m(self)\u001b[0m\n\u001b[0;32m    109\u001b[0m             \u001b[1;31m# Used only for its side effect.\u001b[0m\u001b[1;33m\u001b[0m\u001b[1;33m\u001b[0m\u001b[1;33m\u001b[0m\u001b[0m\n\u001b[0;32m    110\u001b[0m             \u001b[0mself\u001b[0m\u001b[1;33m.\u001b[0m\u001b[0mfieldnames\u001b[0m\u001b[1;33m\u001b[0m\u001b[1;33m\u001b[0m\u001b[0m\n\u001b[1;32m--> 111\u001b[1;33m         \u001b[0mrow\u001b[0m \u001b[1;33m=\u001b[0m \u001b[0mnext\u001b[0m\u001b[1;33m(\u001b[0m\u001b[0mself\u001b[0m\u001b[1;33m.\u001b[0m\u001b[0mreader\u001b[0m\u001b[1;33m)\u001b[0m\u001b[1;33m\u001b[0m\u001b[1;33m\u001b[0m\u001b[0m\n\u001b[0m\u001b[0;32m    112\u001b[0m         \u001b[0mself\u001b[0m\u001b[1;33m.\u001b[0m\u001b[0mline_num\u001b[0m \u001b[1;33m=\u001b[0m \u001b[0mself\u001b[0m\u001b[1;33m.\u001b[0m\u001b[0mreader\u001b[0m\u001b[1;33m.\u001b[0m\u001b[0mline_num\u001b[0m\u001b[1;33m\u001b[0m\u001b[1;33m\u001b[0m\u001b[0m\n\u001b[0;32m    113\u001b[0m \u001b[1;33m\u001b[0m\u001b[0m\n",
      "\u001b[1;32mC:\\Python39\\lib\\encodings\\cp1252.py\u001b[0m in \u001b[0;36mdecode\u001b[1;34m(self, input, final)\u001b[0m\n\u001b[0;32m     21\u001b[0m \u001b[1;32mclass\u001b[0m \u001b[0mIncrementalDecoder\u001b[0m\u001b[1;33m(\u001b[0m\u001b[0mcodecs\u001b[0m\u001b[1;33m.\u001b[0m\u001b[0mIncrementalDecoder\u001b[0m\u001b[1;33m)\u001b[0m\u001b[1;33m:\u001b[0m\u001b[1;33m\u001b[0m\u001b[1;33m\u001b[0m\u001b[0m\n\u001b[0;32m     22\u001b[0m     \u001b[1;32mdef\u001b[0m \u001b[0mdecode\u001b[0m\u001b[1;33m(\u001b[0m\u001b[0mself\u001b[0m\u001b[1;33m,\u001b[0m \u001b[0minput\u001b[0m\u001b[1;33m,\u001b[0m \u001b[0mfinal\u001b[0m\u001b[1;33m=\u001b[0m\u001b[1;32mFalse\u001b[0m\u001b[1;33m)\u001b[0m\u001b[1;33m:\u001b[0m\u001b[1;33m\u001b[0m\u001b[1;33m\u001b[0m\u001b[0m\n\u001b[1;32m---> 23\u001b[1;33m         \u001b[1;32mreturn\u001b[0m \u001b[0mcodecs\u001b[0m\u001b[1;33m.\u001b[0m\u001b[0mcharmap_decode\u001b[0m\u001b[1;33m(\u001b[0m\u001b[0minput\u001b[0m\u001b[1;33m,\u001b[0m\u001b[0mself\u001b[0m\u001b[1;33m.\u001b[0m\u001b[0merrors\u001b[0m\u001b[1;33m,\u001b[0m\u001b[0mdecoding_table\u001b[0m\u001b[1;33m)\u001b[0m\u001b[1;33m[\u001b[0m\u001b[1;36m0\u001b[0m\u001b[1;33m]\u001b[0m\u001b[1;33m\u001b[0m\u001b[1;33m\u001b[0m\u001b[0m\n\u001b[0m\u001b[0;32m     24\u001b[0m \u001b[1;33m\u001b[0m\u001b[0m\n\u001b[0;32m     25\u001b[0m \u001b[1;32mclass\u001b[0m \u001b[0mStreamWriter\u001b[0m\u001b[1;33m(\u001b[0m\u001b[0mCodec\u001b[0m\u001b[1;33m,\u001b[0m\u001b[0mcodecs\u001b[0m\u001b[1;33m.\u001b[0m\u001b[0mStreamWriter\u001b[0m\u001b[1;33m)\u001b[0m\u001b[1;33m:\u001b[0m\u001b[1;33m\u001b[0m\u001b[1;33m\u001b[0m\u001b[0m\n",
      "\u001b[1;31mUnicodeDecodeError\u001b[0m: 'charmap' codec can't decode byte 0x9d in position 6309: character maps to <undefined>"
     ]
    }
   ],
   "source": [
    "with open('ramen_ratings.csv', 'r') as datafile:\n",
    "    ramen_data = csv.DictReader(datafile)\n",
    "    data_list = []\n",
    "    \n",
    "    for row in ramen_data:\n",
    "        data_list.append(row)"
   ]
  },
  {
   "cell_type": "code",
   "execution_count": null,
   "id": "introductory-latter",
   "metadata": {},
   "outputs": [],
   "source": [
    "data_list[0]"
   ]
  },
  {
   "cell_type": "markdown",
   "id": "executed-management",
   "metadata": {},
   "source": [
    "## Format data before generating a visual\n",
    "\n",
    "Choose only entries from Japan, categroize by brand, collect stars in a list"
   ]
  },
  {
   "cell_type": "code",
   "execution_count": null,
   "id": "banner-wayne",
   "metadata": {},
   "outputs": [],
   "source": [
    "japan_data = {}\n",
    "brand_names = [\"New Touch\", \"Acecook\", \"Ikeda Shoku\", \"Ripe 'n' Dry\", \"Nissin\", \"Fujiwara\", \"Maruchan\", \"Sokensha\", \"Takamori\", \n",
    "          \"Samurai Ramen\", \"Ogasawara\", \"Tokyo Noodle\", \"MyKuali\", \"Ajinartori\", \"Myojo\", \"Daikoku\", \"Marutai\", \"Sapporo Ichiban\", \n",
    "          \"Tablemark\", \"Nagatanien\", \"Menraku\", \"Itomen\", \"Sanpo\",  \"Tokushima Seifun\", \"Itsuki\", \"Higashimaru\", \"Kuriki\", \"Daraz\", \n",
    "          \"Seven & I\", \"Sugakiya Foods\", \"Nakaya Shouten\", \"Torishi\", \"Ishimaru\", \"Yamadai\", \"Sakurai Foods\", \"Samyang Foods\", \"Mitoku\", \"Unzen\",\n",
    "          \"Oyatsu\", \"Men-Sunaoshi\", \"Takamori Kosan\"]\n",
    "\n",
    "for item in data_list:\n",
    "    if item['Country'] == 'Japan':\n",
    "        if not japan_data.get(item['Brand']):\n",
    "            japan_data[ item['Brand'] ] = {}\n",
    "        if not japan_data.get(item['Stars']):\n",
    "            japan_data[ item['Stars'] ] = {}\n",
    "       \n",
    "\n",
    "japan_data"
   ]
  },
  {
   "cell_type": "markdown",
   "id": "center-eugene",
   "metadata": {},
   "source": [
    "## Create visual\n",
    "\n",
    "Now that data is parsed, we will use matplotlib to create a bar g"
   ]
  },
  {
   "cell_type": "code",
   "execution_count": null,
   "id": "severe-blogger",
   "metadata": {},
   "outputs": [],
   "source": [
    "plt.title('Japan Ramen Ratings by Brand')\n",
    "plt.xlabel('Brand')\n",
    "plt.ylabel('Stars')\n",
    "\n",
    "#create x axis Brand List\n",
    "x = [ brand.brand_names[brand] for brand in range (1, 40)]\n",
    "\n",
    "#create y axis Stars\n",
    "y = []\n",
    "\n",
    "for brand in brand_names:\n",
    "    for star in x:\n",
    "        if japan_data[brand].get(stars):\n",
    "            last_value = int(float(japan_data[brand][star][-1]))\n",
    "            total_for_stars += last_value\n",
    "        lst value = japan_data[brand]\n",
    "\n",
    "plt.xticks (rotation = 45)\n",
    "plt.ticklabel_format(axis='y', style='plain')\n",
    "plt.plot(x, y, fillstyle='bottom')"
   ]
  },
  {
   "cell_type": "code",
   "execution_count": null,
   "id": "requested-banking",
   "metadata": {},
   "outputs": [],
   "source": []
  }
 ],
 "metadata": {
  "kernelspec": {
   "display_name": "spotify_data",
   "language": "python",
   "name": "spotify_data"
  },
  "language_info": {
   "codemirror_mode": {
    "name": "ipython",
    "version": 3
   },
   "file_extension": ".py",
   "mimetype": "text/x-python",
   "name": "python",
   "nbconvert_exporter": "python",
   "pygments_lexer": "ipython3",
   "version": "3.9.1"
  }
 },
 "nbformat": 4,
 "nbformat_minor": 5
}
