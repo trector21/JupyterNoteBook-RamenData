{
 "cells": [
  {
   "cell_type": "code",
   "execution_count": 1,
   "id": "oriented-fruit",
   "metadata": {},
   "outputs": [
    {
     "name": "stderr",
     "output_type": "stream",
     "text": [
      "Matplotlib is building the font cache; this may take a moment.\n"
     ]
    }
   ],
   "source": [
    "import matplotlib.pyplot as plt\n",
    "import csv"
   ]
  },
  {
   "cell_type": "markdown",
   "id": "potential-receiver",
   "metadata": {},
   "source": [
    "## Importing and setting up data\n",
    "\n",
    "We start by bringing in the CSV data into Python Program\n",
    "We then parse the data using CSV package\n",
    "We then close the python CSV file after we have read the information"
   ]
  },
  {
   "cell_type": "code",
   "execution_count": 3,
   "id": "administrative-dispatch",
   "metadata": {},
   "outputs": [],
   "source": [
    "with open('data.csv/data.csv', 'r') as datafile:\n",
    "    spotify_data = csv.DictReader(datafile)"
   ]
  },
  {
   "cell_type": "code",
   "execution_count": 4,
   "id": "forward-kuwait",
   "metadata": {},
   "outputs": [
    {
     "data": {
      "text/plain": [
       "<csv.DictReader at 0x21ce354d580>"
      ]
     },
     "execution_count": 4,
     "metadata": {},
     "output_type": "execute_result"
    }
   ],
   "source": [
    "spotify_data"
   ]
  },
  {
   "cell_type": "code",
   "execution_count": null,
   "id": "recent-demonstration",
   "metadata": {},
   "outputs": [],
   "source": []
  }
 ],
 "metadata": {
  "kernelspec": {
   "display_name": "spotify_data",
   "language": "python",
   "name": "spotify_data"
  },
  "language_info": {
   "codemirror_mode": {
    "name": "ipython",
    "version": 3
   },
   "file_extension": ".py",
   "mimetype": "text/x-python",
   "name": "python",
   "nbconvert_exporter": "python",
   "pygments_lexer": "ipython3",
   "version": "3.9.1"
  }
 },
 "nbformat": 4,
 "nbformat_minor": 5
}
